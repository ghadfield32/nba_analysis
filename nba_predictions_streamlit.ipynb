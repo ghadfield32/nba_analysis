{
 "cells": [
  {
   "cell_type": "code",
   "execution_count": 11,
   "metadata": {},
   "outputs": [],
   "source": [
    "import streamlit as st\n",
    "import pandas as pd\n",
    "import matplotlib.pyplot as plt\n",
    "\n",
    "# Function to load the data\n",
    "def load_data():\n",
    "    data = pd.read_csv(r\"C:\\Users\\ghadf\\OneDrive\\Desktop\\Data Analytics\\Python\\ML\\nba_w_l_prediction_models\\nba_analysis\\data\\season_pred.csv\")  # Modify the path to your CSV\n",
    "    return data\n",
    "\n",
    "# Load the data\n",
    "data = load_data()\n",
    "\n",
    "# App title and intro\n",
    "st.title(\"NBA Team Analysis\")\n",
    "st.write(\"An analysis based on CSV data for NBA Team Predictions and previous season averages by home/away game.\")\n",
    "\n",
    "# Display a table with data\n",
    "if st.checkbox(\"Show Raw Data\"):\n",
    "    st.write(data)\n",
    "\n",
    "# Scatter plot\n",
    "teams = data[\"TEAM_NAME\"].unique()\n",
    "team_choice = st.selectbox(\"Select a Team for Scatter Plot Analysis:\", teams)\n",
    "\n",
    "team_data = data[data[\"TEAM_NAME\"] == team_choice]\n",
    "fig, ax = plt.subplots()\n",
    "ax.scatter(team_data[\"FG_PCT\"], team_data[\"PLUS_MINUS\"], label=\"Field Goal % vs. Plus Minus\")\n",
    "ax.set_xlabel(\"Field Goal %\")\n",
    "ax.set_ylabel(\"Plus Minus\")\n",
    "ax.set_title(f\"Scatter Plot for {team_choice}\")\n",
    "st.pyplot(fig)\n",
    "\n",
    "# Bar chart\n",
    "if st.checkbox(\"Show Bar Chart:\"):\n",
    "    metrics = [\"FG_PCT\", \"FG3_PCT\", \"FT_PCT\", \"TS%\", \"eFG%\", \"AST%\"]\n",
    "    metric_choice = st.selectbox(\"Select a metric:\", metrics)\n",
    "    fig, ax = plt.subplots()\n",
    "    data.groupby(\"TEAM_NAME\")[metric_choice].mean().sort_values().plot(kind=\"barh\", ax=ax)\n",
    "    ax.set_xlabel(metric_choice)\n",
    "    ax.set_title(f\"Average {metric_choice} by Team\")\n",
    "    st.pyplot(fig)\n",
    "\n",
    "# Upcoming Predictions Table\n",
    "st.subheader(\"Upcoming Predictions\")\n",
    "home_team = st.selectbox(\"Select Home Team:\", [\"\"] + list(teams))  # added an empty choice to force users to select a team\n",
    "away_team = st.selectbox(\"Select Away Team:\", [\"\"] + list(teams))\n",
    "\n",
    "if home_team and away_team:  # ensures both dropdowns have a selection\n",
    "    prediction_data = data[(data[\"TEAM_NAME\"] == home_team) & (data[\"TEAM_NAME_OPP\"] == away_team)]  # assuming you have a \"TEAM_NAME_OPP\" column for the opponent team\n",
    "    if not prediction_data.empty:\n",
    "        st.write(\"Prediction for the matchup:\")\n",
    "        st.write(prediction_data[[\"TEAM_NAME\", \"TEAM_NAME_OPP\", \"PREDICTION\"]])  # adjust columns as needed\n",
    "    else:\n",
    "        st.write(f\"No available prediction for {home_team} vs. {away_team}.\")\n"
   ]
  },
  {
   "cell_type": "code",
   "execution_count": null,
   "metadata": {},
   "outputs": [],
   "source": []
  }
 ],
 "metadata": {
  "kernelspec": {
   "display_name": "Python 3",
   "language": "python",
   "name": "python3"
  },
  "language_info": {
   "codemirror_mode": {
    "name": "ipython",
    "version": 3
   },
   "file_extension": ".py",
   "mimetype": "text/x-python",
   "name": "python",
   "nbconvert_exporter": "python",
   "pygments_lexer": "ipython3",
   "version": "3.11.2"
  },
  "orig_nbformat": 4
 },
 "nbformat": 4,
 "nbformat_minor": 2
}
